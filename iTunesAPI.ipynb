{
 "cells": [
  {
   "cell_type": "code",
   "execution_count": 1,
   "metadata": {},
   "outputs": [],
   "source": [
    "import pandas as pd\n",
    "import requests\n",
    "import urllib\n",
    "import simplejson\n",
    "import os\n",
    "import time\n",
    "import numpy as np"
   ]
  },
  {
   "cell_type": "code",
   "execution_count": 2,
   "metadata": {},
   "outputs": [
    {
     "data": {
      "text/html": [
       "<div>\n",
       "<table border=\"1\" class=\"dataframe\">\n",
       "  <thead>\n",
       "    <tr style=\"text-align: right;\">\n",
       "      <th></th>\n",
       "      <th>appName</th>\n",
       "    </tr>\n",
       "  </thead>\n",
       "  <tbody>\n",
       "    <tr>\n",
       "      <th>0</th>\n",
       "      <td>Peak– Brain Training</td>\n",
       "    </tr>\n",
       "    <tr>\n",
       "      <th>1</th>\n",
       "      <td>Lumosity</td>\n",
       "    </tr>\n",
       "    <tr>\n",
       "      <th>2</th>\n",
       "      <td>Sleep Cycle alarm clock</td>\n",
       "    </tr>\n",
       "    <tr>\n",
       "      <th>3</th>\n",
       "      <td>Calm</td>\n",
       "    </tr>\n",
       "    <tr>\n",
       "      <th>4</th>\n",
       "      <td>Headspace</td>\n",
       "    </tr>\n",
       "  </tbody>\n",
       "</table>\n",
       "</div>"
      ],
      "text/plain": [
       "                   appName\n",
       "0     Peak– Brain Training\n",
       "1                 Lumosity\n",
       "2  Sleep Cycle alarm clock\n",
       "3                     Calm\n",
       "4                Headspace"
      ]
     },
     "execution_count": 2,
     "metadata": {},
     "output_type": "execute_result"
    }
   ],
   "source": [
    "df = pd.read_csv('./mHealth_iOS.csv', header=None)\n",
    "df.rename(columns={0: 'appName'}, inplace=True)\n",
    "df.head()"
   ]
  },
  {
   "cell_type": "code",
   "execution_count": 3,
   "metadata": {},
   "outputs": [],
   "source": [
    "baseURL = 'https://itunes.apple.com/search?{}'\n",
    "paramDict = lambda x: {\"term\": x, \"entity\": \"software\", \"limit\": 1} \n",
    "urlEncoder = lambda x: urllib.request.quote('&'.join(['{}={}'.format(k,v) for k,v in x.items()]), safe=\"&=\")\n",
    "getURL = lambda x: baseURL.format(urlEncoder(paramDict(x)))"
   ]
  },
  {
   "cell_type": "code",
   "execution_count": 4,
   "metadata": {},
   "outputs": [],
   "source": [
    "def getAppInfo(name):\n",
    "    response = urllib.request.urlopen(getURL(name))\n",
    "    output = simplejson.load(response)\n",
    "    if output['resultCount'] == 1:\n",
    "        return output['results'][0]\n",
    "    else:\n",
    "        raise Exception('Not 1 result?')"
   ]
  },
  {
   "cell_type": "code",
   "execution_count": 8,
   "metadata": {},
   "outputs": [],
   "source": [
    "def saveAppInfo(name):  \n",
    "    res = getAppInfo(name)\n",
    "    res['searchString'] = name\n",
    "    fname = os.path.join('ios', res['bundleId'].replace('.', '__')+'.json')\n",
    "    with open(fname, 'w') as f:\n",
    "        f.write(simplejson.dumps(res))\n",
    "    return fname"
   ]
  },
  {
   "cell_type": "code",
   "execution_count": 9,
   "metadata": {},
   "outputs": [
    {
     "data": {
      "text/plain": [
       "'https://itunes.apple.com/search?term=RR%3A%20Eating%20Disorder%20Management&entity=software&limit=1'"
      ]
     },
     "execution_count": 9,
     "metadata": {},
     "output_type": "execute_result"
    }
   ],
   "source": [
    "getURL(df.iloc[45].appName)"
   ]
  },
  {
   "cell_type": "code",
   "execution_count": 10,
   "metadata": {},
   "outputs": [
    {
     "data": {
      "text/plain": [
       "'ios/com__guardiansd__recoveryrecord.json'"
      ]
     },
     "execution_count": 10,
     "metadata": {},
     "output_type": "execute_result"
    }
   ],
   "source": [
    "saveAppInfo(df.iloc[45].appName)"
   ]
  },
  {
   "cell_type": "code",
   "execution_count": 11,
   "metadata": {},
   "outputs": [
    {
     "name": "stdout",
     "output_type": "stream",
     "text": [
      "something wrong 79 Naturespace - Relax Meditate Focus Sleep and Rest with 3D Sounds, sonic therapy for anxiety and stress relief\n",
      "something wrong 106 iSleep Easy - Meditations for Restful Sleep (Paid)\n",
      "something wrong 107 Unwind HD: Calm ambiance to breathe & stop anxiety\n",
      "something wrong 110 Moodfit - Stress & Anxiety\n",
      "something wrong 114 Daily Cardio Workout (Paid)\n",
      "something wrong 119 iPrevail Anxiety, Stress, Depression Chat & Relief\n",
      "something wrong 128 Vital-EQ Respiroguide Pro (Paid)\n",
      "something wrong 136 Relax: Stress and Anxiety Relief (Paid)\n",
      "something wrong 164 Sleep Science HQ: alarm clock (paid)\n",
      "something wrong 172 Panic Relief (Paid)\n",
      "something wrong 178 SARDAA Health Storylines\n",
      "something wrong 202 Mindfulness by Digipill (Paid)\n",
      "something wrong 210 Anxiety Island - work with your child to help overcome fear, phobia and anxiety\n",
      "something wrong 211 Emergency First Aid - Acupressure Massage Points! (Paid)\n",
      "something wrong 217 Get Rid Of Depression with Acupressure Massage! (Paid)\n",
      "something wrong 226 Calmster (Paid)\n",
      "something wrong 228 Vital-EQ Respiroguide (Paid)\n",
      "something wrong 236 My Possible Self\n",
      "something wrong 238 Elefriends\n",
      "something wrong 251 Toxic Thinking\n",
      "something wrong 260 Overcoming Anxiety Depression - This Way Up\n",
      "something wrong 261 Stress Test - risk calculator of long-term life stress\n",
      "something wrong 264 Mastering Generalized Anxiety - This Way Up\n",
      "something wrong 265 Good Days Ahead - ReThink\n",
      "something wrong 266 Overcoming Social Phobia - This Way Up\n",
      "something wrong 270 Lincus Companion\n",
      "something wrong 272 Mastering OCD - This Way Up\n",
      "something wrong 275 Managing Depression - This Way Up\n",
      "something wrong 276 Skills for Panic Disorder - This Way Up\n",
      "something wrong 283 Meditate ॐ OM\n",
      "something wrong 298 Beating the Blues\n",
      "something wrong 299 Cognitive Enhancement Therapy\n",
      "something wrong 300 MoodGYM\n",
      "something wrong 301 Positive Activity Jackpot\n",
      "something wrong 302 ClinTouch\n",
      "something wrong 306 Beating Bipolar\n",
      "something wrong 307 My Trauma Recovery\n",
      "something wrong 309 CBT – Worry Thought Journal\n",
      "something wrong 310 Cognitive Diary CBT Self-Help\n",
      "something wrong 313 LightExistence – Depression Aid\n",
      "something wrong 316 NIH Depression Information\n",
      "something wrong 317 Learn About Depression\n",
      "something wrong 319 Feeling Good Depression Course\n",
      "something wrong 323 Conversations for lifeR - Lite\n",
      "something wrong 330 Recognize Bipolar Disorder\n",
      "something wrong 332 Life Reboot – Fight Depression\n",
      "something wrong 333 ANMA – Anxiety Manager\n",
      "something wrong 336 Fight Depression Naturally\n",
      "something wrong 339 Depression disease TEST\n",
      "something wrong 344 Bipolar Disorder Healing\n",
      "something wrong 351 Tips to Reduce Depression\n",
      "something wrong 352 Yoga Helps Relieve Depression\n",
      "something wrong 354 CBT - Worry Thought Journal\n",
      "something wrong 361 Ambio – Sleep Sounds\n",
      "something wrong 362 Get Out of Stress\n",
      "something wrong 365 Stress Proof Brain\n",
      "something wrong 366 Hack My Brain\n",
      "something wrong 378 End Anxiety Hypnosis - Stress, Panic Attack Help\n",
      "something wrong 385 Stress Busters info\n",
      "something wrong 407 flowt: Stress Management\n",
      "something wrong 408 Anxiety Screening / Evaluation / Test\n",
      "something wrong 409 Anxiety Test GAD-7\n",
      "something wrong 411 Test Your Anxiety level\n",
      "something wrong 412 Mindroid\n",
      "something wrong 413 Amicus - Social Anxiety\n",
      "something wrong 416 Yoga For Prostate\n",
      "something wrong 418 Breathwork Lite :478 Breathing\n",
      "something wrong 423 Happy Habits: Choose Happiness\n",
      "something wrong 424 Take a Chill – Stressed Teens\n",
      "something wrong 425 Mood Triggers: Anxiety Sadness\n",
      "something wrong 426 Stress Reduction Audio\n"
     ]
    }
   ],
   "source": [
    "for i, row in df.iterrows():\n",
    "    try:\n",
    "        saveAppInfo(row.appName)\n",
    "        time.sleep(5 + (np.random.rand()-0.5)*5)\n",
    "    except urllib.error.HTTPError:\n",
    "        print('hit rate limit', i, row.appName)\n",
    "        break\n",
    "    except Exception:\n",
    "        print('something wrong', i, row.appName)"
   ]
  },
  {
   "cell_type": "markdown",
   "metadata": {},
   "source": [
    "**Reza**: wants to know engagement and uptake\n",
    "\n",
    "**Anisha**: wants to know for apps that have more user engagement:\n",
    "  * passive or active or both data collection or no data collection\n",
    "  * gamified or not gamified\n",
    "  * social media or not social media\n",
    "  * mostly educational or not\n",
    "  * category: stress/anxiety, sleep, memory, etc\n",
    "  * link to external sensors (e.g. fitbit) or not"
   ]
  },
  {
   "cell_type": "code",
   "execution_count": null,
   "metadata": {},
   "outputs": [],
   "source": []
  }
 ],
 "metadata": {
  "kernelspec": {
   "display_name": "Python 3",
   "language": "python",
   "name": "python3"
  },
  "language_info": {
   "codemirror_mode": {
    "name": "ipython",
    "version": 3
   },
   "file_extension": ".py",
   "mimetype": "text/x-python",
   "name": "python",
   "nbconvert_exporter": "python",
   "pygments_lexer": "ipython3",
   "version": "3.6.0"
  }
 },
 "nbformat": 4,
 "nbformat_minor": 2
}
